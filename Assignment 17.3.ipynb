{
 "cells": [
  {
   "cell_type": "markdown",
   "metadata": {},
   "source": [
    "Two balls are drawn at random in succession without replacement from an urn\n",
    "containing 4 red balls and 6 black balls.\n",
    "Find the probabilities of all the possible outcomes.\n",
    "\n",
    "Note: Solution submitted via github must contain all the detailed steps."
   ]
  },
  {
   "cell_type": "code",
   "execution_count": null,
   "metadata": {},
   "outputs": [],
   "source": [
    "\n",
    "Sample space for without replacement case = 10*9 =90\n",
    "\n",
    "# Probabilities at all Possible combinations\n",
    "\n",
    "#2-Redballs\n",
    "probability = 4C2/90 =0.066666667\n",
    "\n",
    "\n",
    "#2-blackballs\n",
    "probability = 6C2/90 =0.266666667\n",
    "\n",
    "\n",
    "#1 Redball and 1 blackball\n",
    "probability = (4C1* 6C1)/90 =0.166666667\n"
   ]
  }
 ],
 "metadata": {
  "kernelspec": {
   "display_name": "Python 3",
   "language": "python",
   "name": "python3"
  },
  "language_info": {
   "codemirror_mode": {
    "name": "ipython",
    "version": 3
   },
   "file_extension": ".py",
   "mimetype": "text/x-python",
   "name": "python",
   "nbconvert_exporter": "python",
   "pygments_lexer": "ipython3",
   "version": "3.6.4"
  }
 },
 "nbformat": 4,
 "nbformat_minor": 2
}
